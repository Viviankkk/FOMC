{
 "cells": [
  {
   "cell_type": "code",
   "execution_count": 1,
   "metadata": {},
   "outputs": [],
   "source": [
    "import PyPDF2 as pdf\n",
    "import os\n",
    "import re\n",
    "import matplotlib.pyplot as plt\n",
    "import numpy as np\n",
    "import pandas as pd\n",
    "from nltk.util import ngrams"
   ]
  },
  {
   "cell_type": "code",
   "execution_count": 2,
   "metadata": {},
   "outputs": [
    {
     "name": "stderr",
     "output_type": "stream",
     "text": [
      "[nltk_data] Downloading package stopwords to\n",
      "[nltk_data]     /Users/viviankang/nltk_data...\n",
      "[nltk_data]   Package stopwords is already up-to-date!\n",
      "[nltk_data] Downloading package wordnet to\n",
      "[nltk_data]     /Users/viviankang/nltk_data...\n",
      "[nltk_data]   Package wordnet is already up-to-date!\n"
     ]
    }
   ],
   "source": [
    "from collections import Counter, defaultdict\n",
    "#import nltk for first step extracting words\n",
    "import nltk\n",
    "from nltk.corpus import stopwords\n",
    "from string import punctuation\n",
    "from nltk.stem.wordnet import WordNetLemmatizer\n",
    "\n",
    "#set up stop_words from nltk\n",
    "nltk.download('stopwords')\n",
    "nltk.download('wordnet')\n",
    "stop_words = stopwords.words('english')\n",
    "lemmatizer = WordNetLemmatizer() "
   ]
  },
  {
   "cell_type": "markdown",
   "metadata": {},
   "source": [
    "# Import Data from PDF"
   ]
  },
  {
   "cell_type": "code",
   "execution_count": 3,
   "metadata": {},
   "outputs": [],
   "source": [
    "def read_PDF(path):\n",
    "    file = open(path,'rb')\n",
    "    pdf_reader=pdf.PdfFileReader(file)\n",
    "    txt=\"\"\n",
    "    for i in range(0,pdf_reader.getNumPages()):\n",
    "        txt=txt+pdf_reader.getPage(i).extractText().replace('\\n','')\n",
    "    return txt"
   ]
  },
  {
   "cell_type": "code",
   "execution_count": 4,
   "metadata": {},
   "outputs": [],
   "source": [
    "file_lst=os.listdir('PDF/')"
   ]
  },
  {
   "cell_type": "code",
   "execution_count": 5,
   "metadata": {},
   "outputs": [],
   "source": [
    "txt_dict={}\n",
    "for name in file_lst:\n",
    "    m = re.match(r'^(monetary2020)(\\d{4})(a1.pdf)$', name)\n",
    "    txt_dict[m.group(2)]=read_PDF('PDF/'+name)"
   ]
  },
  {
   "cell_type": "code",
   "execution_count": 6,
   "metadata": {},
   "outputs": [
    {
     "data": {
      "text/plain": [
       "dict_keys(['1105', '0429', '0303', '0323', '0610', '0729', '1216', '0129', '0315', '0916'])"
      ]
     },
     "execution_count": 6,
     "metadata": {},
     "output_type": "execute_result"
    }
   ],
   "source": [
    "txt_dict.keys()"
   ]
  },
  {
   "cell_type": "markdown",
   "metadata": {},
   "source": [
    "# Count references to Coronavirus"
   ]
  },
  {
   "cell_type": "code",
   "execution_count": 7,
   "metadata": {},
   "outputs": [],
   "source": [
    "covid_lexicon=['coronavirus','virus','COVID-19','pandemic','ongoing public health crisis']"
   ]
  },
  {
   "cell_type": "code",
   "execution_count": 8,
   "metadata": {},
   "outputs": [],
   "source": [
    "covid_dict={}\n",
    "for key in sorted(txt_dict.keys()):\n",
    "    num=0\n",
    "    for name in covid_lexicon:\n",
    "        expression=r'\\b'+name+r'\\b'\n",
    "        lst=re.findall(expression, txt_dict[key], flags=0)\n",
    "        num=num+len(lst)\n",
    "    covid_dict[key]=num"
   ]
  },
  {
   "cell_type": "code",
   "execution_count": 9,
   "metadata": {},
   "outputs": [
    {
     "data": {
      "image/png": "[encoded data removed]",
      "text/plain": [
       "<Figure size 432x288 with 1 Axes>"
      ]
     },
     "metadata": {
      "needs_background": "light"
     },
     "output_type": "display_data"
    }
   ],
   "source": [
    "fig = plt.figure()\n",
    "ax = fig.add_axes([0,0,1,1])\n",
    "x=[]\n",
    "y=[]\n",
    "for date in covid_dict.keys():\n",
    "    m = re.match(r'^(\\d{2})(\\d{2})$', date)\n",
    "    x.append(m.group(1)+'/'+m.group(2))\n",
    "    y.append(covid_dict[date])\n",
    "ax.bar(x,y)\n",
    "plt.title('Numbers of Mentions of Covid')\n",
    "plt.xlabel('Date')\n",
    "plt.ylabel('Numbers')\n",
    "plt.show()"
   ]
  },
  {
   "cell_type": "markdown",
   "metadata": {},
   "source": [
    "# Classification of  FOMC Statement as Hawkish versus Dovish \n",
    "##### Method 1: With manually assigned levels for customized dictionaries of phrases, the level for the document is the average of the level of each word contained in the library.\n",
    "##### Method 2: With customized dictionaries containing only single words, the tf-idf weight is used to evaluate each document just as what we did for the financial statements.\n",
    "##### Method 3: Combining the previous two methods, dictionaries of phrases are used while the weight is based on tf-idf instead of being assigned manually."
   ]
  },
  {
   "cell_type": "markdown",
   "metadata": {},
   "source": [
    "### Method 1: Dictionaries of Phrases + Manually Assigned Weights"
   ]
  },
  {
   "cell_type": "code",
   "execution_count": 10,
   "metadata": {},
   "outputs": [],
   "source": [
    "# Loading Dictionaries of Phrases\n",
    "df_H=pd.read_excel('dict.xlsx',sheet_name='Hawkish_Phrases',header=0)\n",
    "df_D=pd.read_excel('dict.xlsx',sheet_name='Dovish_Phrases',header=0)\n",
    "df_phrases=pd.concat([df_H,df_D])"
   ]
  },
  {
   "cell_type": "code",
   "execution_count": 11,
   "metadata": {},
   "outputs": [],
   "source": [
    "#P arse text and convert to a list of words\n",
    "def parse_txt2word(txt):\n",
    "    # Removing all punctuation marks and non characters\n",
    "    txt = re.sub(r'\\W+', ' ', txt)\n",
    "    # Converting into lowercase\n",
    "    txt = txt.lower()\n",
    "    # Removing numbers from string\n",
    "    txt = re.sub(r'\\d','',txt)\n",
    "    # Removing all single characters\n",
    "    txt = re.sub(r'\\b(?<=)[a-z](?=)\\b', ' ', txt)\n",
    "    # Removing all extra spaces\n",
    "    txt = re.sub(r'\\s+', ' ', txt)\n",
    "    #convert plurals and time\n",
    "    txt = [lemmatizer.lemmatize(word, pos = 'v') for word in txt.split(' ') if word not in stop_words and word!=\"\"]\n",
    "    #txt = [lemmatizer.lemmatize(word, pos = 'n') for word in txt if word not in stop_words]\n",
    "    return txt   "
   ]
  },
  {
   "cell_type": "code",
   "execution_count": 12,
   "metadata": {
    "scrolled": true
   },
   "outputs": [
    {
     "data": {
      "text/html": [
       "<div>\n",
       "<style scoped>\n",
       "    .dataframe tbody tr th:only-of-type {\n",
       "        vertical-align: middle;\n",
       "    }\n",
       "\n",
       "    .dataframe tbody tr th {\n",
       "        vertical-align: top;\n",
       "    }\n",
       "\n",
       "    .dataframe thead th {\n",
       "        text-align: right;\n",
       "    }\n",
       "</style>\n",
       "<table border=\"1\" class=\"dataframe\">\n",
       "  <thead>\n",
       "    <tr style=\"text-align: right;\">\n",
       "      <th></th>\n",
       "      <th>Pharses</th>\n",
       "      <th>Level</th>\n",
       "    </tr>\n",
       "  </thead>\n",
       "  <tbody>\n",
       "    <tr>\n",
       "      <th>0</th>\n",
       "      <td>(labor, market, remain, strong)</td>\n",
       "      <td>-3</td>\n",
       "    </tr>\n",
       "    <tr>\n",
       "      <th>1</th>\n",
       "      <td>(economic, activity, rise)</td>\n",
       "      <td>-5</td>\n",
       "    </tr>\n",
       "    <tr>\n",
       "      <th>2</th>\n",
       "      <td>(job, gain, solid)</td>\n",
       "      <td>-3</td>\n",
       "    </tr>\n",
       "    <tr>\n",
       "      <th>3</th>\n",
       "      <td>(unemployment, rate, remain, low)</td>\n",
       "      <td>-3</td>\n",
       "    </tr>\n",
       "    <tr>\n",
       "      <th>4</th>\n",
       "      <td>(inflation, compensation, remain, low)</td>\n",
       "      <td>-3</td>\n",
       "    </tr>\n",
       "  </tbody>\n",
       "</table>\n",
       "</div>"
      ],
      "text/plain": [
       "                                  Pharses  Level\n",
       "0         (labor, market, remain, strong)     -3\n",
       "1              (economic, activity, rise)     -5\n",
       "2                      (job, gain, solid)     -3\n",
       "3       (unemployment, rate, remain, low)     -3\n",
       "4  (inflation, compensation, remain, low)     -3"
      ]
     },
     "execution_count": 12,
     "metadata": {},
     "output_type": "execute_result"
    }
   ],
   "source": [
    "df_phrases['Pharses']=df_phrases['Pharses'].apply(parse_txt2word)\n",
    "df_phrases['Pharses']=df_phrases['Pharses'].apply(tuple)\n",
    "df_phrases.head()"
   ]
  },
  {
   "cell_type": "code",
   "execution_count": 13,
   "metadata": {},
   "outputs": [],
   "source": [
    "# Find the n gram phrases in each document and find the corresponding levels\n",
    "lst_dict={}\n",
    "ngrams_dict={} # Storing the n gram phrases, will be used in method 3\n",
    "for i in range(1,5):\n",
    "    for date in sorted(txt_dict.keys()): \n",
    "        s = txt_dict[date]\n",
    "        s = parse_txt2word(s)\n",
    "        phrase_lst = list(ngrams(s, i))\n",
    "        ngrams_dict[date]=ngrams_dict[date]+phrase_lst if date in ngrams_dict.keys() else phrase_lst\n",
    "        lst=[int(df_phrases.loc[df_phrases['Pharses'] == phrase,\"Level\"]) for phrase in phrase_lst if phrase in set(df_phrases.Pharses)]\n",
    "        #print([df_phrases.loc[df_phrases['Pharses'] == phrase] for phrase in phrase_lst if phrase in set(df_phrases.Pharses)])\n",
    "        lst_dict[date]=lst_dict[date]+lst if date in lst_dict.keys() else lst        "
   ]
  },
  {
   "cell_type": "code",
   "execution_count": 14,
   "metadata": {},
   "outputs": [],
   "source": [
    "# Averaging the levels and ranging them\n",
    "scores=[]\n",
    "for date in sorted(lst_dict.keys()):\n",
    "    scores.append(sum(lst_dict[date])/len(lst_dict[date]))\n",
    "ranged_scores=[int(9*(score-min(scores))/(max(scores)-min(scores)))+1 for score in scores]"
   ]
  },
  {
   "cell_type": "code",
   "execution_count": 15,
   "metadata": {},
   "outputs": [
    {
     "data": {
      "text/plain": [
       "[1, 7, 5, 6, 10, 8, 7, 6, 7, 7]"
      ]
     },
     "execution_count": 15,
     "metadata": {},
     "output_type": "execute_result"
    }
   ],
   "source": [
    "ranged_scores"
   ]
  },
  {
   "cell_type": "code",
   "execution_count": 16,
   "metadata": {},
   "outputs": [
    {
     "data": {
      "image/png": "[encoded data removed]",
      "text/plain": [
       "<Figure size 432x288 with 1 Axes>"
      ]
     },
     "metadata": {
      "needs_background": "light"
     },
     "output_type": "display_data"
    }
   ],
   "source": [
    "fig = plt.figure()\n",
    "ax = fig.add_axes([0,0,1,1])\n",
    "x=[]\n",
    "y=[]\n",
    "for i,date in enumerate(sorted(txt_dict.keys())):\n",
    "    m = re.match(r'^(\\d{2})(\\d{2})$', date)\n",
    "    x.append(m.group(1)+'/'+m.group(2))\n",
    "    y.append(ranged_scores[i])\n",
    "ax.bar(x,y)\n",
    "plt.title('Results of Method 1')\n",
    "plt.xlabel('Date')\n",
    "plt.ylabel('Level (Hawkish to Dovish)')\n",
    "plt.show()"
   ]
  },
  {
   "cell_type": "markdown",
   "metadata": {},
   "source": [
    "### Method 2: Dictionaries of Single Words + TF-IDF Weights"
   ]
  },
  {
   "cell_type": "code",
   "execution_count": 17,
   "metadata": {},
   "outputs": [],
   "source": [
    "# Single word dictionaries\n",
    "H_words=[\"strong\",\"rise\",\"solid\",\"foster\",\"moderate\",\"improve\",\"increase\",\"accommodative\"]\n",
    "D_words=[\"low\",\"risk\",\"challenging\",\"weather\",\"lower\",\"harm\",\"disrupt\",\"strain\",\"decrease\",\n",
    "         \"hardship\",\"surge\",\"disruption\",\"impair\"]"
   ]
  },
  {
   "cell_type": "code",
   "execution_count": 18,
   "metadata": {},
   "outputs": [],
   "source": [
    "#define a function to remove punctuations if a given word ended with a punctuation\n",
    "def remove_punct(string):\n",
    "    return re.sub(r\"[{}]+\".format(punctuation), \"\", string)\n",
    "\n",
    "#define a function for filtering words\n",
    "def filter_words(string):\n",
    "    return bool(re.match(r'^[a-z\\']+$', string))\n",
    "\n",
    "def Process_txt(txt):\n",
    "    #remove the punct\n",
    "    txt = txt_dict[date]\n",
    "    txt = [remove_punct(word) for word in txt.split() if word not in stop_words]\n",
    "        \n",
    "    #just reserve all the words\n",
    "    txt = list(filter(filter_words, txt))\n",
    "        \n",
    "    #convert plurals and time\n",
    "    txt = [lemmatizer.lemmatize(word, pos = 'v') for word in txt if word not in stop_words]\n",
    "    txt = [lemmatizer.lemmatize(word, pos = 'n') for word in txt if word not in stop_words]\n",
    "        \n",
    "    #do the counter to translate to a dict\n",
    "    txt = Counter(txt)\n",
    "    return txt"
   ]
  },
  {
   "cell_type": "code",
   "execution_count": 19,
   "metadata": {},
   "outputs": [],
   "source": [
    "#iterate through all the documents \n",
    "txt_words_dicts={}\n",
    "for date in sorted(txt_dict.keys()):\n",
    "    #process the txt\n",
    "    txt_words_dicts[date]=Process_txt(txt_dict[date])"
   ]
  },
  {
   "cell_type": "code",
   "execution_count": 20,
   "metadata": {},
   "outputs": [],
   "source": [
    "\"\"\"\n",
    "This part is to compute the tf values for the words in FOMC and collect the overall word list for computing idf in the next step\n",
    "\"\"\"\n",
    "#count the number of  documents we have\n",
    "document_num_FOMC = 0\n",
    "\n",
    "#word list for FOMC \n",
    "word_list_FOMC = defaultdict(int)\n",
    "\n",
    "\n",
    "for date in sorted(txt_dict.keys()):        \n",
    "#iterate through the words in tf, which is the words of a given  document of a given date\n",
    "    document_num_FOMC+=1\n",
    "    for word in txt_words_dicts[date].keys():\n",
    "    #add one if it already contains the word, or add the this word to the dict if not\n",
    "        word_list_FOMC[word] += txt_words_dicts[date][word]\n",
    "        "
   ]
  },
  {
   "cell_type": "code",
   "execution_count": 21,
   "metadata": {},
   "outputs": [],
   "source": [
    "#compute idf value for the word in 10ks\n",
    "idf_FOMC = {}\n",
    "\n",
    "#iterate through all the words in word_list_10k\n",
    "for word in word_list_FOMC:\n",
    "    \n",
    "    #compute idf value\n",
    "    idf_FOMC[word] = np.log(document_num_FOMC / (1 + word_list_FOMC[word]))"
   ]
  },
  {
   "cell_type": "code",
   "execution_count": 22,
   "metadata": {},
   "outputs": [],
   "source": [
    "tfidf_dict={}\n",
    "for date in sorted(txt_dict.keys()):  \n",
    "    #number of total words\n",
    "    word_num = len(txt_dict[date])\n",
    "        \n",
    "    #average number of all the words\n",
    "    word_avg = len(txt_words_dicts[date])/len(txt_dict[date])\n",
    "    #np.mean(list(all_data[ticker][date].values()))\n",
    "        \n",
    "    #set up a dictionary storing tf_value and tf-idf_value\n",
    "    temp_dictionary = {'tf':{},'tf_idf':{}}\n",
    "        \n",
    "    #iterate through all the word\n",
    "    for word, num in txt_words_dicts[date].items():\n",
    "            \n",
    "        #compute tf values\n",
    "        temp_dictionary['tf'][word] = num / word_num\n",
    "            \n",
    "        #compute tf_idf_values\n",
    "        temp_dictionary['tf_idf'][word] = (1 + np.log(num)) / (1 + np.log(word_avg)) * idf_FOMC[word]\n",
    "        \n",
    "        #substitute the temp_dictionary to the orignal dict\n",
    "        tfidf_dict[date] = temp_dictionary"
   ]
  },
  {
   "cell_type": "code",
   "execution_count": 23,
   "metadata": {},
   "outputs": [],
   "source": [
    "data={}\n",
    "for date in sorted(txt_dict.keys()):\n",
    "    data[date]={}\n",
    "#calculate tf-idf sum using dictionary1 and store\n",
    "    data[date]['Hawk'] = sum([tfidf_dict[date]['tf_idf'][word] for word in tfidf_dict[date]['tf_idf'] \n",
    "                            if word in H_words])\n",
    "         \n",
    "#calculate tf-idf sum using dictionary2 and store\n",
    "    data[date]['Dov'] = sum([tfidf_dict[date]['tf_idf'][word] for word in tfidf_dict[date]['tf_idf'] \n",
    "                             if word in D_words]) \n",
    "    \n",
    "    data[date]['Score'] = data[date]['Hawk']-data[date]['Dov']\n",
    "        \n",
    "        "
   ]
  },
  {
   "cell_type": "code",
   "execution_count": 24,
   "metadata": {},
   "outputs": [],
   "source": [
    "scores=[data[date]['Score'] for date in sorted(txt_dict.keys())]\n",
    "ranged_scores=[int(9*(data[date]['Score']-min(scores))/(max(scores)-min(scores)))+1 for date in sorted(txt_dict.keys())]"
   ]
  },
  {
   "cell_type": "code",
   "execution_count": 25,
   "metadata": {},
   "outputs": [
    {
     "data": {
      "image/png": "[encoded data removed]",
      "text/plain": [
       "<Figure size 432x288 with 1 Axes>"
      ]
     },
     "metadata": {
      "needs_background": "light"
     },
     "output_type": "display_data"
    }
   ],
   "source": [
    "fig = plt.figure()\n",
    "ax = fig.add_axes([0,0,1,1])\n",
    "x=[]\n",
    "y=[]\n",
    "for i,date in enumerate(sorted(txt_dict.keys())):\n",
    "    m = re.match(r'^(\\d{2})(\\d{2})$', date)\n",
    "    x.append(m.group(1)+'/'+m.group(2))\n",
    "    y.append(ranged_scores[i])\n",
    "ax.bar(x,y)\n",
    "plt.title('Results of Method 2')\n",
    "plt.xlabel('Date')\n",
    "plt.ylabel('Level (Hawkish to Dovish)')\n",
    "plt.show()"
   ]
  },
  {
   "cell_type": "markdown",
   "metadata": {},
   "source": [
    "### Method 3: Dictionaries of Phrases + TF-IDF Weights"
   ]
  },
  {
   "cell_type": "code",
   "execution_count": 26,
   "metadata": {},
   "outputs": [],
   "source": [
    "ngrams_dict_count={}\n",
    "for date in sorted(txt_dict.keys()):\n",
    "    ngrams_dict_count[date]=Counter(ngrams_dict[date])"
   ]
  },
  {
   "cell_type": "code",
   "execution_count": 27,
   "metadata": {},
   "outputs": [],
   "source": [
    "# tf values containing phrases\n",
    "#count the number of  documents we have\n",
    "document_num_FOMC = 10\n",
    "\n",
    "#word list for 10k \n",
    "phrase_list_FOMC = defaultdict(int)\n",
    "\n",
    "for i in range(1,5):\n",
    "    for date in sorted(txt_dict.keys()):\n",
    "        document_num_FOMC+=1\n",
    "        for phrase in ngrams_dict_count[date].keys():\n",
    "        #add one if it already contains the word, or add the this word to the dict if not\n",
    "            phrase_list_FOMC[phrase] += ngrams_dict_count[date][phrase]"
   ]
  },
  {
   "cell_type": "code",
   "execution_count": 28,
   "metadata": {},
   "outputs": [],
   "source": [
    "#compute idf value for the word in 10ks\n",
    "phrase_idf_FOMC = {}\n",
    "\n",
    "#iterate through all the words in word_list_10k\n",
    "for phrase in phrase_list_FOMC:\n",
    "    \n",
    "    #compute idf value\n",
    "    phrase_idf_FOMC[phrase] = np.log(document_num_FOMC / (1 + phrase_list_FOMC[phrase]))"
   ]
  },
  {
   "cell_type": "code",
   "execution_count": 29,
   "metadata": {},
   "outputs": [],
   "source": [
    "phrase_tfidf_dict={}\n",
    "for date in sorted(txt_dict.keys()):  \n",
    "    #number of total words\n",
    "    word_num = len(ngrams_dict[date])\n",
    "        \n",
    "    #average number of all the words\n",
    "    word_avg = len(ngrams_dict[date])/len(ngrams_dict_count[date])\n",
    "    #np.mean(list(all_data[ticker][date].values()))\n",
    "        \n",
    "    #set up a dictionary storing tf_value and tf-idf_value\n",
    "    temp_dictionary = {'tf':{},'tf_idf':{}}\n",
    "        \n",
    "    #iterate through all the word\n",
    "    for phrase, num in ngrams_dict_count[date].items():\n",
    "            \n",
    "        #compute tf values\n",
    "        temp_dictionary['tf'][phrase] = num / word_num\n",
    "            \n",
    "        #compute tf_idf_values\n",
    "        temp_dictionary['tf_idf'][phrase] = (1 + np.log(num)) / (1 + np.log(word_avg)) * phrase_idf_FOMC[phrase]\n",
    "        \n",
    "        #substitute the temp_dictionary to the orignal dict\n",
    "        phrase_tfidf_dict[date] = temp_dictionary"
   ]
  },
  {
   "cell_type": "code",
   "execution_count": 30,
   "metadata": {},
   "outputs": [],
   "source": [
    "data={}\n",
    "for date in sorted(txt_dict.keys()):\n",
    "    data[date]={}\n",
    "#calculate tf-idf sum using dictionary1 and store\n",
    "    data[date]['Hawk'] = sum([phrase_tfidf_dict[date]['tf_idf'][phrase] for phrase in phrase_tfidf_dict[date]['tf_idf'] \n",
    "                            if phrase in set(df_phrases.loc[df_phrases[\"Level\"]<0,\"Pharses\"])])\n",
    "         \n",
    "#calculate tf-idf sum using dictionary2 and store\n",
    "    data[date]['Dov'] = sum([phrase_tfidf_dict[date]['tf_idf'][phrase] for phrase in phrase_tfidf_dict[date]['tf_idf'] \n",
    "                             if phrase in set(df_phrases.loc[df_phrases[\"Level\"]>0,\"Pharses\"])]) \n",
    "    \n",
    "    data[date]['Score'] = -data[date]['Hawk']+data[date]['Dov']\n",
    "        "
   ]
  },
  {
   "cell_type": "code",
   "execution_count": 31,
   "metadata": {},
   "outputs": [],
   "source": [
    "scores=[data[date]['Score'] for date in sorted(txt_dict.keys())]"
   ]
  },
  {
   "cell_type": "code",
   "execution_count": 32,
   "metadata": {},
   "outputs": [],
   "source": [
    "ranged_scores=[int(9*(data[date]['Score']-min(scores))/(max(scores)-min(scores)))+1 for date in sorted(txt_dict.keys())]"
   ]
  },
  {
   "cell_type": "code",
   "execution_count": 33,
   "metadata": {},
   "outputs": [
    {
     "data": {
      "text/plain": [
       "[1, 6, 4, 5, 10, 8, 7, 6, 7, 7]"
      ]
     },
     "execution_count": 33,
     "metadata": {},
     "output_type": "execute_result"
    }
   ],
   "source": [
    "ranged_scores"
   ]
  },
  {
   "cell_type": "code",
   "execution_count": 34,
   "metadata": {},
   "outputs": [
    {
     "data": {
      "image/png": "[encoded data removed]",
      "text/plain": [
       "<Figure size 432x288 with 1 Axes>"
      ]
     },
     "metadata": {
      "needs_background": "light"
     },
     "output_type": "display_data"
    }
   ],
   "source": [
    "fig = plt.figure()\n",
    "ax = fig.add_axes([0,0,1,1])\n",
    "x=[]\n",
    "y=[]\n",
    "for i,date in enumerate(sorted(txt_dict.keys())):\n",
    "    m = re.match(r'^(\\d{2})(\\d{2})$', date)\n",
    "    x.append(m.group(1)+'/'+m.group(2))\n",
    "    y.append(ranged_scores[i])\n",
    "ax.bar(x,y)\n",
    "plt.title('Results of Method 3')\n",
    "plt.xlabel('Date')\n",
    "plt.ylabel('Level (Hawkish to Dovish)')\n",
    "plt.show()"
   ]
  },
  {
   "cell_type": "markdown",
   "metadata": {},
   "source": [
    "### Conclusion\n",
    "It seems that the result of method 2 complies with the expectation most. The most hawkish document is the January one while the most dovish document is the April one. For the result of method 2, the recent months have gone less dovish while for the result of other two methods, the recent months have remained quite dovish. This might be because the dictionaries of phrases have based on lots of mentions of influence caused by covid-19. Indeed, the mentions of covid-19 have grown recently as the previous section shows. This have caused these months to appear pretty dovish."
   ]
  }
 ],
 "metadata": {
  "kernelspec": {
   "display_name": "Python 3",
   "language": "python",
   "name": "python3"
  },
  "language_info": {
   "codemirror_mode": {
    "name": "ipython",
    "version": 3
   },
   "file_extension": ".py",
   "mimetype": "text/x-python",
   "name": "python",
   "nbconvert_exporter": "python",
   "pygments_lexer": "ipython3",
   "version": "3.7.6"
  }
 },
 "nbformat": 4,
 "nbformat_minor": 4
}
